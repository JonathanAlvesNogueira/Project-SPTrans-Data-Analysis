{
 "cells": [
  {
   "cell_type": "markdown",
   "metadata": {},
   "source": [
    "### Encontra Nome do Bairro"
   ]
  },
  {
   "cell_type": "code",
   "execution_count": 2,
   "metadata": {},
   "outputs": [
    {
     "name": "stdout",
     "output_type": "stream",
     "text": [
      "O bairro é: Cidade Tiradentes\n"
     ]
    }
   ],
   "source": [
    "import requests\n",
    "\n",
    "def get_bairro_by_coordinates(lat, lon):\n",
    "    url = f'https://nominatim.openstreetmap.org/reverse?lat={lat}&lon={lon}&format=json&addressdetails=1'\n",
    "    \n",
    "    # Adicionando o cabeçalho 'User-Agent' para evitar o erro 403\n",
    "    headers = {\n",
    "        'User-Agent': 'SeuNome/SeuEmail'  # Substitua com seu nome e e-mail ou nome do projeto\n",
    "    }\n",
    "    \n",
    "    response = requests.get(url, headers=headers)\n",
    "    \n",
    "    # Verifica se a resposta foi bem-sucedida (status code 200)\n",
    "    if response.status_code == 200:\n",
    "        try:\n",
    "            data = response.json()  # Tenta converter a resposta para JSON\n",
    "            if 'address' in data:\n",
    "                # Tentamos diferentes campos que podem conter o bairro ou a região\n",
    "                bairro = data['address'].get('neighbourhood', None)\n",
    "                if not bairro:  # Se não encontrar bairro, tenta 'suburb', 'city_district', ou 'municipality'\n",
    "                    bairro = data['address'].get('suburb', None)\n",
    "                    if not bairro:\n",
    "                        bairro = data['address'].get('city_district', None)\n",
    "                        if not bairro:\n",
    "                            bairro = data['address'].get('municipality', None)\n",
    "\n",
    "                if bairro:\n",
    "                    return bairro\n",
    "                else:\n",
    "                    return \"Bairro não encontrado\"\n",
    "            return \"Informações não disponíveis\"\n",
    "        except ValueError:\n",
    "            return \"Erro ao decodificar a resposta JSON.\"\n",
    "    elif response.status_code == 403:\n",
    "        return \"Erro 403: Acesso negado. Verifique as limitações da API.\"\n",
    "    else:\n",
    "        return f\"Erro na requisição: {response.status_code}\"\n",
    "\n",
    "# Exemplo de uso\n",
    "latitude = -23.5824973  # Latitude para a Avenida Paulista\n",
    "longitude = -46.4092065 # Longitude para a Avenida Paulista\n",
    "\n",
    "bairro = get_bairro_by_coordinates(latitude, longitude)\n",
    "print(f'O bairro é: {bairro}')"
   ]
  },
  {
   "cell_type": "markdown",
   "metadata": {},
   "source": [
    "### Encontra latitude e Longitude"
   ]
  },
  {
   "cell_type": "code",
   "execution_count": 1,
   "metadata": {},
   "outputs": [
    {
     "name": "stdout",
     "output_type": "stream",
     "text": [
      "Latitude: -23.5824973, Longitude: -46.4092065\n"
     ]
    }
   ],
   "source": [
    "import requests\n",
    "\n",
    "def get_coordinates_by_bairro(bairro):\n",
    "    # URL para fazer a requisição à API Nominatim com o nome do bairro\n",
    "    url = f'https://nominatim.openstreetmap.org/search?q={bairro}&format=json&addressdetails=1'\n",
    "    \n",
    "    # Cabeçalho 'User-Agent' necessário para evitar erro 403\n",
    "    headers = {\n",
    "        'User-Agent': 'SeuNome/SeuEmail'  # Substitua pelo seu nome e email ou o nome do seu projeto\n",
    "    }\n",
    "    \n",
    "    # Fazendo a requisição\n",
    "    response = requests.get(url, headers=headers)\n",
    "    \n",
    "    # Verifica se a resposta foi bem-sucedida (status code 200)\n",
    "    if response.status_code == 200:\n",
    "        try:\n",
    "            data = response.json()  # Converte a resposta para JSON\n",
    "            if data:\n",
    "                # A primeira entrada da lista geralmente é a mais precisa\n",
    "                result = data[0]  # Pega o primeiro resultado encontrado\n",
    "                lat = result['lat']  # Latitude\n",
    "                lon = result['lon']  # Longitude\n",
    "                \n",
    "                return lat, lon\n",
    "            else:\n",
    "                return \"Bairro não encontrado\"\n",
    "        except ValueError:\n",
    "            return \"Erro ao decodificar a resposta JSON.\"\n",
    "    elif response.status_code == 403:\n",
    "        return \"Erro 403: Acesso negado. Verifique as limitações da API.\"\n",
    "    else:\n",
    "        return f\"Erro na requisição: {response.status_code}\"\n",
    "\n",
    "# Exemplo de uso\n",
    "bairro = \"Cidade Tiradentes, São Paulo\"  # Nome do bairro que você deseja buscar\n",
    "\n",
    "# Chama a função e imprime a latitude e longitude\n",
    "coordenadas = get_coordinates_by_bairro(bairro)\n",
    "if isinstance(coordenadas, tuple):\n",
    "    print(f'Latitude: {coordenadas[0]}, Longitude: {coordenadas[1]}')\n",
    "else:\n",
    "    print(coordenadas)\n"
   ]
  },
  {
   "cell_type": "code",
   "execution_count": null,
   "metadata": {},
   "outputs": [],
   "source": []
  }
 ],
 "metadata": {
  "kernelspec": {
   "display_name": "Python 3",
   "language": "python",
   "name": "python3"
  },
  "language_info": {
   "codemirror_mode": {
    "name": "ipython",
    "version": 3
   },
   "file_extension": ".py",
   "mimetype": "text/x-python",
   "name": "python",
   "nbconvert_exporter": "python",
   "pygments_lexer": "ipython3",
   "version": "3.12.0"
  }
 },
 "nbformat": 4,
 "nbformat_minor": 2
}

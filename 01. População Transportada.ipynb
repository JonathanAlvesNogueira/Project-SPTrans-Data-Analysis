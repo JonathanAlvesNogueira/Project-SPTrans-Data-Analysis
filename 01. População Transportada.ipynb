{
 "cells": [
  {
   "cell_type": "code",
   "execution_count": null,
   "metadata": {},
   "outputs": [
    {
     "ename": "ModuleNotFoundError",
     "evalue": "No module named 'pandas'",
     "output_type": "error",
     "traceback": [
      "\u001b[1;31m---------------------------------------------------------------------------\u001b[0m",
      "\u001b[1;31mModuleNotFoundError\u001b[0m                       Traceback (most recent call last)",
      "Cell \u001b[1;32mIn[1], line 1\u001b[0m\n\u001b[1;32m----> 1\u001b[0m \u001b[38;5;28;01mimport\u001b[39;00m \u001b[38;5;21;01mpandas\u001b[39;00m \u001b[38;5;28;01mas\u001b[39;00m \u001b[38;5;21;01mpd\u001b[39;00m\n\u001b[0;32m      2\u001b[0m \u001b[38;5;28;01mimport\u001b[39;00m \u001b[38;5;21;01mrequests\u001b[39;00m\n\u001b[0;32m      4\u001b[0m \u001b[38;5;66;03m# URL da página com as tabelas\u001b[39;00m\n",
      "\u001b[1;31mModuleNotFoundError\u001b[0m: No module named 'pandas'"
     ]
    }
   ],
   "source": [
    "import pandas as pd\n",
    "import requests\n",
    "\n",
    "# URL da página com as tabelas\n",
    "url = 'https://capital.sp.gov.br/web/mobilidade/w/institucional/sptrans/acesso_a_informacao/245234'\n",
    "\n",
    "# Baixar o conteúdo da página\n",
    "response = requests.get(url)\n",
    "\n",
    "# Verificar se a requisição foi bem-sucedida\n",
    "if response.status_code == 200:\n",
    "    tabelas = pd.read_html(response.text, header=1)  # Define a segunda linha como cabeçalho\n",
    "\n",
    "    # Dicionário para armazenar os DataFrames\n",
    "    dfs = {}\n",
    "\n",
    "    # Criar um DataFrame para cada tabela e armazenar no dicionário\n",
    "    for i, tabela in enumerate(tabelas):\n",
    "        nome_df = f'df{i+1}'\n",
    "        dfs[nome_df] = tabela\n",
    "\n",
    "else:\n",
    "    print(f\"Erro ao acessar a página: {response.status_code}\")"
   ]
  },
  {
   "cell_type": "markdown",
   "metadata": {},
   "source": [
    "#### Como funciona cada coluna ?\n",
    "\n",
    "## Descrição das Colunas\n",
    "\n",
    "- **MÊS**: Número do mês (1 a 12).\n",
    "- **Grupo Estrutural**: Numero de passageiros transportados em onibus do tipo de linha (ex: principal, alimentadora dos centros e afins).\n",
    "- **Grupo Local de Articulação Regional**: Numero de passageiros transportados em linhas regionais\n",
    "- **Grupo Local de Distribuição**: Numero de passageiros transportados em linhas regionais\n",
    "\n",
    "- **Total**: Total de passageiros ou unidades transportadas.\n",
    "- **particao**: Segmentação dos dados, geralmente por ano ou período.\n",
    "- **Período**: Intervalo de tempo de coleta (ex: 2024)."
   ]
  },
  {
   "cell_type": "code",
   "execution_count": null,
   "metadata": {},
   "outputs": [],
   "source": [
    "for i in range(1, 13, 1):\n",
    "  print('mundo')\n",
    "  df = dfs[f'df{i}']\n",
    "  if i == 1:\n",
    "    valor = 2024\n",
    "  else:\n",
    "    valor = valor - 1\n",
    "  df['particao'] = valor\n",
    "  if i == 1:\n",
    "    df_final = df.copy()\n",
    "  else:\n",
    "    # Renomeando e substituindo as colunas com os valores e apagando as antigas\n",
    "    if 'Estrutural' in df.columns:\n",
    "        df['Grupo Estrutural'] = df['Estrutural']\n",
    "        df.drop(columns=['Estrutural'], inplace=True)\n",
    "\n",
    "    if 'Local' in df.columns:\n",
    "        df['Grupo Local de Articulação Regional'] = df['Local']\n",
    "        df.drop(columns=['Local'], inplace=True)\n",
    "\n",
    "    if 'Sistema' in df.columns:\n",
    "        df['Total'] = df['Sistema']\n",
    "        df.drop(columns=['Sistema'], inplace=True)\n",
    "\n",
    "    if 'Subsistema Estrutural' in df.columns:\n",
    "        df['Grupo Estrutural'] = df['Subsistema Estrutural']\n",
    "        df.drop(columns=['Subsistema Estrutural'], inplace=True)\n",
    "\n",
    "    if 'Subsistema Local' in df.columns:\n",
    "        df['Grupo Local de Articulação Regional'] = df['Subsistema Local']\n",
    "        df.drop(columns=['Subsistema Local'], inplace=True)\n",
    "        # Adiciona o DataFrame na lista\n",
    "\n",
    "          # Verifica se as colunas existem\n",
    "        # Verifica se a coluna 'Grupo Local de Distribuição' existe\n",
    "    if 'Grupo Local de Distribuição' in df.columns:\n",
    "        print('entrou')\n",
    "        # Substituindo valores ausentes (NaN) por 0, mas não mexendo em valores válidos\n",
    "        df['Grupo Local de Distribuição'] = df['Grupo Local de Distribuição'].fillna(0)\n",
    "        df['Grupo Local de Articulação Regional'] = df['Grupo Local de Articulação Regional'].fillna(0)\n",
    "\n",
    "\n",
    "        # Removendo os pontos (separadores de milhar) e tratando o \"-\" como 0\n",
    "        df['Grupo Local de Articulação Regional'] = df['Grupo Local de Articulação Regional'].replace({'.': '', '-': '0'}, regex=True)\n",
    "        df['Grupo Local de Distribuição'] = df['Grupo Local de Distribuição'].replace({'.': '', '-': '0'}, regex=True)\n",
    "\n",
    "        # Removendo a coluna 'Grupo Local de Distribuição' já que foi somada\n",
    "        df.drop(columns=['Grupo Local de Distribuição'], inplace=True)\n",
    "\n",
    "\n",
    "    # Decrementa o valor da partição\n",
    "    valor -= 1\n",
    "    df_final = pd.concat([df_final, df])"
   ]
  },
  {
   "cell_type": "code",
   "execution_count": null,
   "metadata": {},
   "outputs": [],
   "source": [
    "# Remove os pontos (separadores de milhar)\n",
    "df_final['Grupo Local de Distribuição'] = df_final['Grupo Local de Distribuição'].str.replace('.', '', regex=False)\n",
    "df_final['Grupo Local de Articulação Regional'] = df_final['Grupo Local de Articulação Regional'].str.replace('.', '', regex=False)\n",
    "df_final['Total'] = df_final['Total'].str.replace('.', '', regex=False)\n",
    "df_final['Grupo Estrutural'] = df_final['Grupo Estrutural'].str.replace('.', '', regex=False)\n",
    "df_final['Grupo Estrutural'] = df_final['Grupo Estrutural'].str.replace('-', '', regex=False)\n",
    "\n",
    "\n",
    "\n",
    "\n",
    "# Substitui valores ausentes (NaN) e strings vazias ('') por '0'\n",
    "df_final['Grupo Local de Articulação Regional'] = df_final['Grupo Local de Articulação Regional'].fillna('0').replace('', '0')\n",
    "df_final['Grupo Local de Distribuição'] = df_final['Grupo Local de Distribuição'].fillna('0').replace('', '0')\n",
    "df_final['Grupo Estrutural'] = df_final['Grupo Estrutural'].fillna('0').replace('', '0')\n",
    "\n",
    "# Tenta converter as colunas para tipo float\n",
    "df_final['Grupo Local de Articulação Regional'] = pd.to_numeric(df_final['Grupo Local de Articulação Regional'], errors='coerce')\n",
    "df_final['Grupo Local de Distribuição'] = pd.to_numeric(df_final['Grupo Local de Distribuição'], errors='coerce')\n",
    "\n",
    "# Soma das colunas\n",
    "df_final['Grupo Local de Articulação Regional'] = df_final['Grupo Local de Articulação Regional'] + df_final['Grupo Local de Distribuição']\n",
    "\n",
    "# Remove a coluna 'Grupo Local de Distribuição' após a soma\n",
    "df_final.drop(columns=['Grupo Local de Distribuição'], inplace=True)\n",
    "df_final['Total'] = df_final['Total'].fillna('0').astype(int)\n",
    "df_final['Grupo Estrutural'] = df_final['Grupo Estrutural'].fillna('0').astype(int)\n",
    "\n",
    "\n",
    "\n",
    "# Exibe o DataFrame final\n",
    "display(df_final)\n"
   ]
  },
  {
   "cell_type": "code",
   "execution_count": null,
   "metadata": {},
   "outputs": [],
   "source": [
    "import pandas as pd\n",
    "import numpy as np\n",
    "\n",
    "# Dicionário de meses\n",
    "meses = {\n",
    "    'Jan': 'Janeiro', 'Fev': 'Fevereiro', 'Mar': 'Março', 'Abr': 'Abril', \n",
    "    'Mai': 'Maio', 'Jun': 'Junho', 'Jul': 'Julho', 'Ago': 'Agosto', \n",
    "    'Set': 'Setembro', 'Out': 'Outubro', 'Nov': 'Novembro', 'Dez': 'Dezembro'\n",
    "}\n",
    "\n",
    "df_final['sep'] = df_final['MÊS'].str.split('/').str[0]\n",
    "\n",
    "display(df_final)\n",
    "\n",
    "# Substituindo a abreviação pelo nome completo do mês\n",
    "df_final['Período'] = np.where(df_final['sep'].isin(meses.keys()),\n",
    "                           df_final['sep'].map(meses),\n",
    "                           df_final['Período'])\n",
    "\n",
    "# Exibindo o resultado\n",
    "display(df_final)\n"
   ]
  },
  {
   "cell_type": "code",
   "execution_count": null,
   "metadata": {},
   "outputs": [],
   "source": [
    "# Criando uma nova coluna com as três primeiras letras da coluna 'MÊS'\n",
    "df_final['MÊS_abrev'] = df_final['Período'].str.slice(0, 3)\n",
    "\n",
    "df_final['MÊS'] = df_final['MÊS_abrev'].astype(str) + '/' + df_final['particao'].astype(str)\n",
    "display(df_final)\n",
    "\n",
    "df_final.drop(columns=['sep'], inplace=True)\n"
   ]
  },
  {
   "cell_type": "code",
   "execution_count": null,
   "metadata": {},
   "outputs": [],
   "source": [
    "df_final"
   ]
  }
 ],
 "metadata": {
  "kernelspec": {
   "display_name": "Python 3",
   "language": "python",
   "name": "python3"
  },
  "language_info": {
   "codemirror_mode": {
    "name": "ipython",
    "version": 3
   },
   "file_extension": ".py",
   "mimetype": "text/x-python",
   "name": "python",
   "nbconvert_exporter": "python",
   "pygments_lexer": "ipython3",
   "version": "3.13.0"
  }
 },
 "nbformat": 4,
 "nbformat_minor": 2
}
